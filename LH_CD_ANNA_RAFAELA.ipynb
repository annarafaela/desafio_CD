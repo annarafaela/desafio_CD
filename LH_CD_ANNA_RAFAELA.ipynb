{
 "cells": [
  {
   "cell_type": "markdown",
   "metadata": {},
   "source": [
    "> 1. \n",
    "Como visto na análise dos dados, a área central de Nova York concentra a maior quantidade de anúncios, bem\n",
    "\n",
    "*   a concentração de espaços ofertados estão na regiao central, podendo aumentar a concorrência;\n",
    "*   a concentração dos preços por noite mais elevados estão nos bairros da regiao central;\n",
    "*   predominancia de ofertas nos grupos de Manhattan e Brooklyn;\n",
    "*   quanto mais central a oferta (grupos Manhattan e Brooklyn), maior a faixa do preços por noite;\n",
    "*   quando oferta-se o espaço inteiro, o preço médio é quase o triplo do preço quando se compartilha o espaço. Ainda, observa-se que, a quantidade de alugueis oferecidos por quarto privado e todo o apartamento são em maioria.\n",
    "*   tem-se que na grande área Manharran, ocorre a oferta de mais alugueis pelo espaço todo, ao ponto de que no brooklyn, apenas o alugel de quartos divididos é baixo, comparado aos outros espaços;\n",
    "*   os bairros mais populares ofertados são do Brookly e Manhattan, estes possuindo a maior quantidade de reviews.\n",
    "   \n",
    "A partir disso, pode-se incentivar o aluguel de imóveis com o espaço inteiro em áreas mais periféricas."
   ]
  },
  {
   "cell_type": "markdown",
   "metadata": {},
   "source": [
    "> 2.\n",
    "\n",
    "a) De acordo com os gráficos apresentados, a área mais rentável para aluguel de temporada é a região de Manhattan e Brooklyn, a depender do tipo de espaço a ser oferecido.\n",
    "\n",
    "b) Sim, o número mínimo de noites e a disponibilidade ao longo do ano interferem no preço. Sendo baixo o número mínimo de noites, pessoas que viajam a trabalho, por exemplo, tendem alugar, já que devem ficar por poucos dias, assim, pode-se aumentar o preço do aluguel pela grande quantidade de procura. Já a disponibilidade interfere mais na rentabilidade do espaço, já que maior disponibilidade, maior chance de ser ofertado e alugado.\n",
    "\n",
    "c) Sim, de acordo com os gráficos, bairros da categoria Manhattan e Brooklyn são os mais procurados, com maior quantidade de review, sendo que estas grandes áreas são as que contem os preços mais altos."
   ]
  },
  {
   "cell_type": "markdown",
   "metadata": {},
   "source": [
    "> 3.\n",
    "\n",
    "O problema é do tipo regressão múltipla univariável , já que exige a previsão de uma única variável (preço) apartir de multiplas variáveis ou características. E já que a variável pedida é um \"preço real\" e não uma categoria de preço, o problema não pode ser do tipo classificação.\n",
    "\n",
    "A princípio observou-se os tipos de dado de cada atributo e a quantidade de valores nulos em cada um. Decidiu-se excluir os atributos 'host_name', 'name' devido à sensibilidade de seus dados, que podem identificar o proprietário do imóvel, podendo ter problemas posteriores para a empresa, e o atributo 'ultima_review'. Isso porque insignificante para influir no preço de aluguel imóveis. (Não quer dizer que não influencia na escolha do usuário). Além de que os atributos 'numeros_de_reviews' e 'reviews_por_mes' são mais esclarecedores.\n",
    "\n",
    "Primeiro criou-se uma estratificação dos dados a partir do atributo 'price'. em seguida, criou-se os conjuntos de dados de treinamento e de teste.\n",
    "\n",
    "Criou-se uma variável cópia do conjunto de dados de treinamento para que este não sofresse nenhuma perda durante a análise dos valores.\n",
    "\n",
    "Para uma melhor comparação entre o atributo 'price' e outros, criou-se um novo atributo a partir do logaritmo dos valores em 'price'. Assim, os gráficos proporcionaram uma melhor visualização das relações.\n",
    "\n",
    "Obtido as relações primárias, o atributo alvo 'price' foi alocado em uma variável única e o atributo 'bairro' foi retirado já que as grandes áreas mostram-se mais relevantes. Depois realizou-se a separação entre os tipos de dados textuais dos numéricos. Em seguidam criou-se um pipeline para automatizar as transformações de preenchimento dos valores nulos (neste momento existia valores nulos ainda no atributo 'reviews_por_mes') com a média dos valores existente no atributo e a tranformação de valores textuais para valores numéricos, evitando tendências no modelo.\n",
    "\n",
    "Após preparar os dados, foi feito a escolha do modelo a ser utilizado. A princípio, escolhu-se três modelos: Regressão Linear, Árvore de decisão e Floresta Aleatória. As méticas utilizadas foram: erro médio absoluto (MAE), erro médio quadrático (MSE), raiz quadrada do erro médio quadrático (RMSE), coeficiente de determinação (R2). Utilizou-se essas métricas em conjunto para que conhecesse o desempenho do modelo em explicar a variável e verificar erros que o modeleo possa estar cometendo. Além disso, utilizou-se a validação cruzada, método em que se cria subconjuntos para o treinamento e avaliação do modelo para cada subconjunto gerado. Este último método irá retornar o RMSE para cada subconjunto gerado, sua média e o desvio padrão.\n",
    "\n",
    "A partir das métricas, escolheu-se Floresta Aleatória para ser o modelo de regressão. Os valores das métricas mostraram que o modelo consegue se adequar às não linearidades dos dados, característica que os outros dois modelos não conseguiram acompanhar.\n",
    "\n",
    "Após a escolha do modelo, realizou-se o ajuste fino do modelo encontrando seus melhores hiperparâmetros do modelo. Utilizou-se esses melhores no modelo para o conjunto de teste.\n",
    "\n",
    "Por fim, aplicou-se o modelo ajustado ao conjunto de dados de teste. Este foi dividido em dados de entrada e saídas (atributo 'price').\n"
   ]
  },
  {
   "cell_type": "markdown",
   "metadata": {},
   "source": [
    "> 4."
   ]
  },
  {
   "cell_type": "code",
   "execution_count": 4,
   "metadata": {},
   "outputs": [],
   "source": [
    "import pandas as pd\n",
    "import joblib\n",
    "modelo_final = joblib.load(\"modelo_final.pkl\")"
   ]
  },
  {
   "cell_type": "code",
   "execution_count": 5,
   "metadata": {},
   "outputs": [],
   "source": [
    "dados = {'id': [2595], \n",
    "        'nome': ['Skylit Midtown Castle'],\n",
    "        'host_id': [2845], \n",
    "        'host_name': ['Jennifer'], \n",
    "        'bairro_group': ['Manhattan'], \n",
    "        'bairro': ['Midtown'], \n",
    "        'latitude': [40.75362], \n",
    "        'longitude': [-73.98377], \n",
    "        'room_type': ['Entire home/apt'], \n",
    "        'minimo_noites': [1], \n",
    "        'numero_de_reviews': [45], \n",
    "        'ultima_review': ['2019-05-21'], \n",
    "        'reviews_por_mes': [0.38], \n",
    "        'calculado_host_listings_count': [2], \n",
    "        'disponibilidade_365': [355]}\n",
    "\n",
    "dados = pd.DataFrame(dados)\n",
    "dados.drop(['nome','host_name','bairro','ultima_review'], axis=1, inplace=True)\n"
   ]
  },
  {
   "cell_type": "code",
   "execution_count": 13,
   "metadata": {},
   "outputs": [],
   "source": [
    "rent_data = pd.read_pickle('rent_data.pkl')\n",
    "rent_data_price = pd.read_pickle('rent_data_price.pkl')\n",
    "modelo_final.fit(rent_data, rent_data_price)\n",
    "sugestao_preco = float(modelo_final.predict(dados).item())\n"
   ]
  },
  {
   "cell_type": "code",
   "execution_count": 14,
   "metadata": {},
   "outputs": [
    {
     "name": "stdout",
     "output_type": "stream",
     "text": [
      "A sugestão de preço é de R$350.43\n"
     ]
    }
   ],
   "source": [
    "print(f'A sugestão de preço é de R${sugestao_preco:.2f}')"
   ]
  },
  {
   "cell_type": "markdown",
   "metadata": {},
   "source": [
    "> 5.\n",
    "\n",
    "Modelo salvo como 'modelo_final.pkl'."
   ]
  },
  {
   "cell_type": "markdown",
   "metadata": {},
   "source": [
    "> 6.\n",
    "\n",
    "Página no GitHub: https://github.com/annarafaela/desafio_CD"
   ]
  },
  {
   "cell_type": "markdown",
   "metadata": {},
   "source": [
    "> 7.\n",
    "\n",
    "Vídeo aberto: https://drive.google.com/file/d/1hHxGvZh6q3RS61676J7GVnF2r2qflGZV/view?usp=sharing"
   ]
  }
 ],
 "metadata": {
  "kernelspec": {
   "display_name": "machine_learn",
   "language": "python",
   "name": "python3"
  },
  "language_info": {
   "codemirror_mode": {
    "name": "ipython",
    "version": 3
   },
   "file_extension": ".py",
   "mimetype": "text/x-python",
   "name": "python",
   "nbconvert_exporter": "python",
   "pygments_lexer": "ipython3",
   "version": "3.13.1"
  }
 },
 "nbformat": 4,
 "nbformat_minor": 2
}
